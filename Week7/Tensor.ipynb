{
 "cells": [
  {
   "cell_type": "code",
   "execution_count": 1,
   "metadata": {},
   "outputs": [],
   "source": [
    "import torch\n",
    "import numpy as np"
   ]
  },
  {
   "cell_type": "code",
   "execution_count": 2,
   "metadata": {},
   "outputs": [
    {
     "name": "stdout",
     "output_type": "stream",
     "text": [
      "x1:\n",
      "tensor([[ 0.0000e+00, -4.6566e-10,  0.0000e+00],\n",
      "        [-4.6566e-10,  5.6052e-45,  1.4714e-43],\n",
      "        [ 1.5975e-43,  1.4153e-43,  1.3873e-43],\n",
      "        [ 1.6255e-43,  1.5554e-43,  1.5975e-43],\n",
      "        [ 1.6956e-43,  0.0000e+00,  0.0000e+00]])\n",
      "x2:\n",
      "tensor([[0.9248, 0.5633, 0.1780],\n",
      "        [0.2122, 0.9026, 0.9705],\n",
      "        [0.0096, 0.9726, 0.3816],\n",
      "        [0.1054, 0.9072, 0.7188],\n",
      "        [0.9670, 0.6383, 0.1880]])\n",
      "x3:\n",
      "tensor([[ 1.,  2.,  3.],\n",
      "        [ 4.,  5.,  6.],\n",
      "        [ 7.,  8.,  9.],\n",
      "        [10., 11., 12.],\n",
      "        [13., 14., 15.]])\n",
      "torch.Size([5, 3])\n"
     ]
    }
   ],
   "source": [
    "x1 = torch.Tensor(5,3) # Construct a 5x3 matrix, uninitialized\n",
    "print(\"x1:\"); print(x1)\n",
    "x2 = torch.rand(5,3) # Construct a randomly initialized matrix\n",
    "print(\"x2:\"); print(x2)\n",
    "x3_ = np.array([[1,2,3],[4,5,6],[7,8,9],[10,11,12],[13,14,15]])\n",
    "x3 = torch.Tensor(x3_) # Construct matrix initialized by ndarray\n",
    "print(\"x3:\"); print(x3)\n",
    "print(x3.size())"
   ]
  },
  {
   "cell_type": "code",
   "execution_count": 3,
   "metadata": {
    "scrolled": true
   },
   "outputs": [
    {
     "name": "stdout",
     "output_type": "stream",
     "text": [
      "y1:\n",
      "tensor([[ 1.9248,  2.5633,  3.1780],\n",
      "        [ 4.2122,  5.9026,  6.9705],\n",
      "        [ 7.0096,  8.9726,  9.3816],\n",
      "        [10.1054, 11.9072, 12.7188],\n",
      "        [13.9670, 14.6383, 15.1880]])\n",
      "y2:\n",
      "tensor([[ 1.9248,  2.5633,  3.1780],\n",
      "        [ 4.2122,  5.9026,  6.9705],\n",
      "        [ 7.0096,  8.9726,  9.3816],\n",
      "        [10.1054, 11.9072, 12.7188],\n",
      "        [13.9670, 14.6383, 15.1880]])\n",
      "y3:\n",
      "tensor([[ 1.9248,  2.5633,  3.1780],\n",
      "        [ 4.2122,  5.9026,  6.9705],\n",
      "        [ 7.0096,  8.9726,  9.3816],\n",
      "        [10.1054, 11.9072, 12.7188],\n",
      "        [13.9670, 14.6383, 15.1880]])\n",
      "y4:\n",
      "tensor([[ 1.9248,  2.5633,  3.1780],\n",
      "        [ 4.2122,  5.9026,  6.9705],\n",
      "        [ 7.0096,  8.9726,  9.3816],\n",
      "        [10.1054, 11.9072, 12.7188],\n",
      "        [13.9670, 14.6383, 15.1880]])\n"
     ]
    }
   ],
   "source": [
    "# Addition: syntax 1\n",
    "y1 = torch.add(x2,x3)\n",
    "print(\"y1:\"); print(y1)\n",
    "\n",
    "# Addition: syntax 2\n",
    "y2 = x2 + x3\n",
    "print(\"y2:\"); print(y2)\n",
    "\n",
    "# Addition: syntax 3\n",
    "y3 = torch.Tensor(5,3)\n",
    "torch.add(x2,x3,out=y3)\n",
    "print(\"y3:\"); print(y3)\n",
    "\n",
    "# Addition: in place\n",
    "y4 = x2.clone()\n",
    "y4.add_(x3)\n",
    "print(\"y4:\"); print(y4)"
   ]
  },
  {
   "cell_type": "code",
   "execution_count": 5,
   "metadata": {},
   "outputs": [
    {
     "name": "stdout",
     "output_type": "stream",
     "text": [
      "y5:\n",
      "tensor([1., 2., 3.])\n"
     ]
    }
   ],
   "source": [
    "# standard numpy-like indexing is supported\n",
    "y5 = x3[0,:]\n",
    "print(\"y5:\"); print(y5)"
   ]
  },
  {
   "cell_type": "code",
   "execution_count": 6,
   "metadata": {},
   "outputs": [
    {
     "name": "stdout",
     "output_type": "stream",
     "text": [
      "torch.Size([1, 5, 3])\n",
      "torch.Size([5, 3])\n"
     ]
    }
   ],
   "source": [
    "# expand/squeeze dimensions\n",
    "x3_hat = x3.clone()\n",
    "x3_hat = torch.unsqueeze(x3_hat, 0) # [5,3] ----> [1,5,3]\n",
    "print(x3_hat.size())\n",
    "x3_hat = torch.squeeze(x3_hat) # [1,5,3] ----> [5,3]\n",
    "print(x3_hat.size())"
   ]
  },
  {
   "cell_type": "code",
   "execution_count": 7,
   "metadata": {},
   "outputs": [
    {
     "name": "stdout",
     "output_type": "stream",
     "text": [
      "a:\n",
      "tensor([1., 1., 1.])\n",
      "b:\n",
      "[1. 1. 1.]\n",
      "b_new:\n",
      "[2. 2. 2.]\n",
      "c:\n",
      "tensor([2., 2., 2.])\n",
      "c_new:\n",
      "tensor([3., 3., 3.])\n"
     ]
    }
   ],
   "source": [
    "# Numpy Bridge\n",
    "\n",
    "# from Tensor to ndarray\n",
    "a = torch.ones(3)\n",
    "print(\"a:\"); print(a)\n",
    "b = a.numpy()\n",
    "print(\"b:\"); print(b)\n",
    "a.add_(1)\n",
    "print(\"b_new:\"); print(b) # the value of ndarray changes according to torch Tensor\n",
    "\n",
    "# from ndarray to Tensor\n",
    "c = torch.from_numpy(b)\n",
    "print(\"c:\"); print(c)\n",
    "a.add_(1)\n",
    "print(\"c_new:\"); print(c) # the values change in a chain: a->b->c"
   ]
  },
  {
   "cell_type": "code",
   "execution_count": 10,
   "metadata": {},
   "outputs": [],
   "source": [
    "# x2 = x2.cuda()\n",
    "device = torch.device(\"cuda\" if torch.cuda.is_available() else \"cpu\")\n",
    "x2 = x2.to(device)\n",
    "x3 = x3.to(device)\n",
    "y = x2 + x3"
   ]
  },
  {
   "cell_type": "code",
   "execution_count": null,
   "metadata": {},
   "outputs": [],
   "source": []
  }
 ],
 "metadata": {
  "kernelspec": {
   "display_name": "Python 3",
   "language": "python",
   "name": "python3"
  },
  "language_info": {
   "codemirror_mode": {
    "name": "ipython",
    "version": 3
   },
   "file_extension": ".py",
   "mimetype": "text/x-python",
   "name": "python",
   "nbconvert_exporter": "python",
   "pygments_lexer": "ipython3",
   "version": "3.7.2"
  }
 },
 "nbformat": 4,
 "nbformat_minor": 2
}
